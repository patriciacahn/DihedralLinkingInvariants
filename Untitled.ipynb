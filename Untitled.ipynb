{
 "cells": [
  {
   "cell_type": "code",
   "execution_count": 2,
   "id": "c3b1d509",
   "metadata": {},
   "outputs": [
    {
     "name": "stdout",
     "output_type": "stream",
     "text": [
      "Knot: 10_121\n",
      "p= 5\n",
      "The local writhe numbers at the heads of arcs k0,k1,...,k9 are:\n",
      "[-1, 1, -1, -1, -1, 1, -1, -1, 1, -1]\n",
      "The subscripts of the arcs passing over the heads of arcs k0,k1,...,k9 are:\n",
      "[3, 8, 9, 6, 2, 1, 0, 4, 5, 7]\n",
      "The colors of the arcs k0,k1,...,k9 are:\n",
      "[1, 2, 3, 4, 3, 3, 1, 1, 5, 1]\n",
      "The arrow lists are [[[1, 1], [0, 2], [4, 3]], [[2, 2], [3, 1], [4, 0]], [[3, 3], [2, 4], [1, 0]], [[4, 4], [0, 3], [1, 2]], [[3, 3], [2, 4], [1, 0]], [[3, 3], [4, 2], [0, 1]], [[1, 1], [0, 2], [4, 3]], [[1, 1], [2, 0], [3, 4]], [[0, 0], [4, 1], [3, 2]], [[1, 1], [2, 0], [3, 4]]]\n",
      "The vertex lists are [[[1, 't'], [0, 'c'], [1, 'h'], [2, 'h'], [2, 't']], [[2, 'h'], [1, 'h'], [0, 'c'], [1, 't'], [2, 't']], [[2, 'h'], [2, 't'], [1, 't'], [0, 'c'], [1, 'h']], [[1, 't'], [2, 't'], [2, 'h'], [1, 'h'], [0, 'c']], [[2, 'h'], [2, 't'], [1, 't'], [0, 'c'], [1, 'h']], [[2, 't'], [2, 'h'], [1, 'h'], [0, 'c'], [1, 't']], [[1, 't'], [0, 'c'], [1, 'h'], [2, 'h'], [2, 't']], [[1, 'h'], [0, 'c'], [1, 't'], [2, 't'], [2, 'h']], [[0, 'c'], [1, 'h'], [2, 'h'], [2, 't'], [1, 't']], [[1, 'h'], [0, 'c'], [1, 't'], [2, 't'], [2, 'h']]]\n",
      "Intersection number of K^j, j= 0 with Sigma^k, k= 0\n",
      "-164/19\n",
      "Intersection number of K^j, j= 0 with Sigma^k, k= 1\n",
      "106/19\n",
      "Intersection number of K^j, j= 0 with Sigma^k, k= 2\n",
      "-62/19\n",
      "Intersection number of K^j, j= 1 with Sigma^k, k= 0\n",
      "106/19\n",
      "Intersection number of K^j, j= 1 with Sigma^k, k= 1\n",
      "-113/19\n",
      "Intersection number of K^j, j= 1 with Sigma^k, k= 2\n",
      "22/19\n",
      "Intersection number of K^j, j= 2 with Sigma^k, k= 0\n",
      "-62/19\n",
      "Intersection number of K^j, j= 2 with Sigma^k, k= 1\n",
      "22/19\n",
      "Intersection number of K^j, j= 2 with Sigma^k, k= 2\n",
      "-29/19\n"
     ]
    }
   ],
   "source": [
    "run examples.py"
   ]
  },
  {
   "cell_type": "code",
   "execution_count": null,
   "id": "4b3ae574",
   "metadata": {},
   "outputs": [],
   "source": []
  }
 ],
 "metadata": {
  "kernelspec": {
   "display_name": "Python 3 (ipykernel)",
   "language": "python",
   "name": "python3"
  },
  "language_info": {
   "codemirror_mode": {
    "name": "ipython",
    "version": 3
   },
   "file_extension": ".py",
   "mimetype": "text/x-python",
   "name": "python",
   "nbconvert_exporter": "python",
   "pygments_lexer": "ipython3",
   "version": "3.9.7"
  }
 },
 "nbformat": 4,
 "nbformat_minor": 5
}
